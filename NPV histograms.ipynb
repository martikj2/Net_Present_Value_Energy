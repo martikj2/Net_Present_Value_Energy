{
 "cells": [
  {
   "cell_type": "code",
   "execution_count": 1,
   "metadata": {},
   "outputs": [],
   "source": [
    "import matplotlib.pyplot as plt\n",
    "import numpy as np\n",
    "import pandas as pd"
   ]
  },
  {
   "cell_type": "code",
   "execution_count": 38,
   "metadata": {},
   "outputs": [],
   "source": [
    "def NPV(n,r,cf,It0,OMkwh,OMfixed,wholesale_price):\n",
    "    prod=cf*1*365*24\n",
    "    It=np.zeros(n)\n",
    "    It[0]=It0\n",
    "    Mt=np.ones(n)*(OMkwh*prod+OMfixed)\n",
    "    Et=np.ones(n)*prod  #kwH\n",
    "    discounted_benefits=0.0\n",
    "    discounted_costs=0.0\n",
    "    for x in range(n):\n",
    "        t=x\n",
    "        benefit=Et[x]*(wholesale_price/1000)/np.power((1+r),t)\n",
    "        cost=(It[x]+Mt[x])/np.power((1+r),t)\n",
    "        discounted_benefits=discounted_benefits+benefit\n",
    "        discounted_costs=discounted_costs+cost\n",
    "    return discounted_benefits-discounted_costs\n",
    "    "
   ]
  },
  {
   "cell_type": "markdown",
   "metadata": {},
   "source": [
    "# Nuclear power NPV histogram"
   ]
  },
  {
   "cell_type": "code",
   "execution_count": 25,
   "metadata": {},
   "outputs": [],
   "source": [
    "#Nuclear parameters from DIW report\n",
    "It0=4000  #Euros/kW\n",
    "n=40      #years\n",
    "cf=0.9\n",
    "r=0.04    #Discount rate\n",
    "OMkwh=0.012  #Euros/kWh variable O&M\n",
    "OMfixed=90   #Euros/kW fixed O&M\n",
    "wholesale_price=80  #Euros/MWh"
   ]
  },
  {
   "cell_type": "code",
   "execution_count": 26,
   "metadata": {},
   "outputs": [],
   "source": [
    "#Testing that the function works reasonably\n",
    "NPV_nuclear=NPV(n,r,cf,It0,OMkwh,OMfixed,wholesale_price)/1000   #Billions for a GW plant"
   ]
  },
  {
   "cell_type": "code",
   "execution_count": 27,
   "metadata": {},
   "outputs": [
    {
     "data": {
      "text/plain": [
       "5.18298570039047"
      ]
     },
     "execution_count": 27,
     "metadata": {},
     "output_type": "execute_result"
    }
   ],
   "source": [
    "NPV_nuclear"
   ]
  },
  {
   "cell_type": "code",
   "execution_count": 35,
   "metadata": {},
   "outputs": [],
   "source": [
    "#sample over bunch of random parameters...uniform distributions...\n",
    "samples=100000\n",
    "NPV_nuclearv=np.zeros(samples)\n",
    "rmin=0.04\n",
    "rmax=0.1\n",
    "Itmin=4000\n",
    "Itmax=9000\n",
    "wholesalemin=20\n",
    "wholesalemax=80\n",
    "#numpy.random.uniform(low=0.0, high=1.0, size=None)\n",
    "for x in range(samples):\n",
    "    It0=np.random.uniform(low=Itmin,high=Itmax)\n",
    "    wholesale_price=np.random.uniform(low=wholesalemin,high=wholesalemax)\n",
    "    r=np.random.uniform(low=rmin,high=rmax)\n",
    "    #These uniform distributions are kind of idiotic\n",
    "    NPV_nuclearv[x]=NPV(n,r,cf,It0,OMkwh,OMfixed,wholesale_price)/1000   #Billions for a GW plant"
   ]
  },
  {
   "cell_type": "code",
   "execution_count": 36,
   "metadata": {},
   "outputs": [
    {
     "data": {
      "image/png": "[encoded data removed]",
      "text/plain": [
       "<Figure size 432x288 with 1 Axes>"
      ]
     },
     "metadata": {
      "needs_background": "light"
     },
     "output_type": "display_data"
    }
   ],
   "source": [
    "plt.hist(NPV_nuclearv, bins=75,density=True,color = [\"skyblue\"])\n",
    "plt.title(\"Nuclear NPV\")\n",
    "plt.xlabel(\"Billions of euros\")\n",
    "plt.ylabel(\"frequency\")\n",
    "plt.grid(color='b', linestyle='--', linewidth=0.25)\n",
    "plt.savefig('Nuclear_NPV.png')\n",
    "plt.show()"
   ]
  },
  {
   "cell_type": "markdown",
   "metadata": {},
   "source": [
    "# Onshore wind power NPV histogram\n",
    "https://www.ise.fraunhofer.de/content/dam/ise/en/documents/publications/studies/EN2018_Fraunhofer-ISE_LCOE_Renewable_Energy_Technologies.pdf"
   ]
  },
  {
   "cell_type": "code",
   "execution_count": 25,
   "metadata": {},
   "outputs": [],
   "source": [
    "#Wind parameters\n",
    "It0=1500  #Euros/kW\n",
    "n=25      #years\n",
    "cf=0.25\n",
    "r=0.04    #Discount rate\n",
    "OMkwh=0.005  #Euros/kWh variable O&M\n",
    "OMfixed=30   #Euros/kW fixed O&M\n",
    "wholesale_price=80  #Euros/MWh"
   ]
  },
  {
   "cell_type": "code",
   "execution_count": 40,
   "metadata": {},
   "outputs": [],
   "source": [
    "#sample over bunch of parameters\n",
    "NPV_windv=np.zeros(samples)\n",
    "rmin=0.04\n",
    "rmax=0.1\n",
    "Itmin=1500\n",
    "Itmax=2000\n",
    "wholesalemin=20\n",
    "wholesalemax=80\n",
    "cfmin=0.2\n",
    "cfmax=0.37\n",
    "for x in range(samples):\n",
    "    It0=np.random.uniform(low=Itmin,high=Itmax)\n",
    "    wholesale_price=np.random.uniform(low=wholesalemin,high=wholesalemax)\n",
    "    r=np.random.uniform(low=rmin,high=rmax)\n",
    "    cf=np.random.uniform(low=cfmin,high=cfmax)\n",
    "    NPV_windv[x]=NPV(n,r,cf,It0,OMkwh,OMfixed,wholesale_price)/1000   #Billions for a GW plant"
   ]
  },
  {
   "cell_type": "code",
   "execution_count": 42,
   "metadata": {},
   "outputs": [
    {
     "data": {
      "image/png": "[encoded data removed]",
      "text/plain": [
       "<Figure size 432x288 with 1 Axes>"
      ]
     },
     "metadata": {
      "needs_background": "light"
     },
     "output_type": "display_data"
    }
   ],
   "source": [
    "plt.hist(NPV_windv, bins=75,density=True,color = [\"skyblue\"])\n",
    "plt.title(\"Onshore wind NPV\")\n",
    "plt.xlabel(\"Billions of euros\")\n",
    "plt.ylabel(\"frequency\")\n",
    "plt.grid(color='b', linestyle='--', linewidth=0.25)\n",
    "plt.savefig('Wind_NPV.png')\n",
    "plt.show()"
   ]
  },
  {
   "cell_type": "markdown",
   "metadata": {},
   "source": [
    "# Photovoltaics Germany NPV histogram\n",
    "https://www.ise.fraunhofer.de/content/dam/ise/en/documents/publications/studies/EN2018_Fraunhofer-ISE_LCOE_Renewable_Energy_Technologies.pdf"
   ]
  },
  {
   "cell_type": "code",
   "execution_count": 43,
   "metadata": {},
   "outputs": [],
   "source": [
    "#Photovoltaics parameters\n",
    "It0=1400  #Euros/kW\n",
    "n=25      #years\n",
    "cf=0.1\n",
    "r=0.04    #Discount rate\n",
    "OMkwh=0.0  #Euros/kWh variable O&M\n",
    "#OMfixed=30   #Euros/kW fixed O&M...for solar given as a percentage of capex\n",
    "wholesale_price=80  #Euros/MWh"
   ]
  },
  {
   "cell_type": "code",
   "execution_count": 44,
   "metadata": {},
   "outputs": [],
   "source": [
    "#sample over bunch of parameters\n",
    "NPV_solarv=np.zeros(samples)\n",
    "rmin=0.04\n",
    "rmax=0.1\n",
    "Itmin=600\n",
    "Itmax=1400\n",
    "wholesalemin=20\n",
    "wholesalemax=80\n",
    "cfmin=0.09\n",
    "cfmax=0.12\n",
    "for x in range(samples):\n",
    "    It0=np.random.uniform(low=Itmin,high=Itmax)\n",
    "    OMfixed=0.025*It0   #2.5% of capex\n",
    "    wholesale_price=np.random.uniform(low=wholesalemin,high=wholesalemax)\n",
    "    r=np.random.uniform(low=rmin,high=rmax)\n",
    "    cf=np.random.uniform(low=cfmin,high=cfmax)\n",
    "    NPV_solarv[x]=NPV(n,r,cf,It0,OMkwh,OMfixed,wholesale_price)/1000   #Billions for a GW plant"
   ]
  },
  {
   "cell_type": "code",
   "execution_count": 45,
   "metadata": {
    "scrolled": true
   },
   "outputs": [
    {
     "data": {
      "image/png": "[encoded data removed]",
      "text/plain": [
       "<Figure size 432x288 with 1 Axes>"
      ]
     },
     "metadata": {
      "needs_background": "light"
     },
     "output_type": "display_data"
    }
   ],
   "source": [
    "plt.hist(NPV_solarv, bins=75,density=True,color = [\"skyblue\"])\n",
    "plt.title(\"Photovoltaics NPV\")\n",
    "plt.xlabel(\"Billions of euros\")\n",
    "plt.ylabel(\"frequency\")\n",
    "plt.grid(color='b', linestyle='--', linewidth=0.25)\n",
    "plt.savefig('Solar_NPV.png')\n",
    "plt.show()"
   ]
  },
  {
   "cell_type": "markdown",
   "metadata": {},
   "source": [
    "# Offshore wind Germany NPV histogram\n",
    "https://www.ise.fraunhofer.de/content/dam/ise/en/documents/publications/studies/EN2018_Fraunhofer-ISE_LCOE_Renewable_Energy_Technologies.pdf"
   ]
  },
  {
   "cell_type": "code",
   "execution_count": 46,
   "metadata": {},
   "outputs": [],
   "source": [
    "#Offshore wind parameters\n",
    "It0=3100  #Euros/kW\n",
    "n=25      #years\n",
    "cf=0.37\n",
    "r=0.04    #Discount rate\n",
    "OMkwh=0.0  #Euros/kWh variable O&M\n",
    "OMfixed=100   #Euros/kW fixed O&M...for solar given as a percentage of capex\n",
    "wholesale_price=80  #Euros/MWh"
   ]
  },
  {
   "cell_type": "code",
   "execution_count": 47,
   "metadata": {},
   "outputs": [],
   "source": [
    "#sample over bunch of parameters\n",
    "NPV_owindv=np.zeros(samples)\n",
    "rmin=0.04\n",
    "rmax=0.1\n",
    "Itmin=3100\n",
    "Itmax=4700\n",
    "wholesalemin=20\n",
    "wholesalemax=80\n",
    "cfmin=0.37\n",
    "cfmax=0.51\n",
    "for x in range(samples):\n",
    "    It0=np.random.uniform(low=Itmin,high=Itmax)\n",
    "    wholesale_price=np.random.uniform(low=wholesalemin,high=wholesalemax)\n",
    "    r=np.random.uniform(low=rmin,high=rmax)\n",
    "    cf=np.random.uniform(low=cfmin,high=cfmax)\n",
    "    NPV_owindv[x]=NPV(n,r,cf,It0,OMkwh,OMfixed,wholesale_price)/1000   #Billions for a GW plant"
   ]
  },
  {
   "cell_type": "code",
   "execution_count": 48,
   "metadata": {
    "scrolled": true
   },
   "outputs": [
    {
     "data": {
      "image/png": "[encoded data removed]",
      "text/plain": [
       "<Figure size 432x288 with 1 Axes>"
      ]
     },
     "metadata": {
      "needs_background": "light"
     },
     "output_type": "display_data"
    }
   ],
   "source": [
    "plt.hist(NPV_owindv, bins=75,density=True,color = [\"skyblue\"])\n",
    "plt.title(\"Offshore wind NPV\")\n",
    "plt.xlabel(\"Billions of euros\")\n",
    "plt.ylabel(\"frequency\")\n",
    "plt.grid(color='b', linestyle='--', linewidth=0.25)\n",
    "plt.savefig('Offshore_wind_NPV.png')\n",
    "plt.show()"
   ]
  },
  {
   "cell_type": "code",
   "execution_count": null,
   "metadata": {},
   "outputs": [],
   "source": []
  }
 ],
 "metadata": {
  "kernelspec": {
   "display_name": "Python 3",
   "language": "python",
   "name": "python3"
  },
  "language_info": {
   "codemirror_mode": {
    "name": "ipython",
    "version": 3
   },
   "file_extension": ".py",
   "mimetype": "text/x-python",
   "name": "python",
   "nbconvert_exporter": "python",
   "pygments_lexer": "ipython3",
   "version": "3.7.0"
  }
 },
 "nbformat": 4,
 "nbformat_minor": 2
}
