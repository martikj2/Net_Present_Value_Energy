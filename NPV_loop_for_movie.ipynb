{
 "cells": [
  {
   "cell_type": "markdown",
   "metadata": {},
   "source": [
    "Modification of the 1st version: Add construction period...investment ramped linearly over the construction period"
   ]
  },
  {
   "cell_type": "code",
   "execution_count": 3,
   "metadata": {},
   "outputs": [],
   "source": [
    "import matplotlib.pyplot as plt\n",
    "import numpy as np\n",
    "import pandas as pd"
   ]
  },
  {
   "cell_type": "code",
   "execution_count": 4,
   "metadata": {},
   "outputs": [],
   "source": [
    "def NPV(construction_period,n,r,cf,It0,OMkwh,OMfixed,wholesale_price):\n",
    "    prod=cf*1*365*24\n",
    "    constructiont=int(round(construction_period))\n",
    "    It=np.zeros(n+constructiont)\n",
    "    #It[0]=It0\n",
    "    Mt=np.ones(n+constructiont)*(OMkwh*prod+OMfixed)\n",
    "    Et=np.ones(n+constructiont)*prod  #kwH\n",
    "    for x in range(constructiont):\n",
    "        It[x]=It0/constructiont  #spread the investment evenly over the construction period\n",
    "        Mt[x]=0   #No costs or production during construction\n",
    "        Et[x]=0\n",
    "    discounted_benefits=0.0\n",
    "    discounted_costs=0.0\n",
    "    for x in range(n+constructiont):\n",
    "        t=x\n",
    "        benefit=Et[x]*(wholesale_price/1000)/np.power((1+r),t)\n",
    "        cost=(It[x]+Mt[x])/np.power((1+r),t)\n",
    "        discounted_benefits=discounted_benefits+benefit\n",
    "        discounted_costs=discounted_costs+cost\n",
    "    return discounted_benefits-discounted_costs\n",
    "    "
   ]
  },
  {
   "cell_type": "markdown",
   "metadata": {},
   "source": [
    "# Histogram of all sources together loop over something"
   ]
  },
  {
   "cell_type": "code",
   "execution_count": 20,
   "metadata": {},
   "outputs": [],
   "source": [
    "#Nuclear parameters from DIW report\n",
    "It0=4000  #Euros/kW\n",
    "n=40      #years\n",
    "nw=25\n",
    "ns=25\n",
    "now=25\n",
    "cf=0.9\n",
    "r=0.04    #Discount rate\n",
    "OMkwh=0.012  #Euros/kWh variable O&M\n",
    "OMfixed=90   #Euros/kW fixed O&M\n",
    "OMkwhw=0.005  #Euros/kWh variable O&M\n",
    "OMfixedw=30   #Euros/kW fixed O&M\n",
    "OMkwhow=0.0  #Euros/kWh variable O&M\n",
    "OMfixedow=100   #Euros/kW fixed O&M\n",
    "OMkwhs=0.0  #Euros/kWh variable O&M\n",
    "wholesale_price=80  #Euros/MWh\n",
    "construction_period=6   #years...rounded to integer here\n",
    "construction_periodw=4 \n",
    "construction_periodow=6\n",
    "construction_periods=3"
   ]
  },
  {
   "cell_type": "code",
   "execution_count": 21,
   "metadata": {},
   "outputs": [],
   "source": [
    "#Testing that the function works reasonably\n",
    "NPV_nuclear=NPV(construction_period,n,r,cf,It0,OMkwh,OMfixed,wholesale_price)/1000   #Billions for a GW plant"
   ]
  },
  {
   "cell_type": "code",
   "execution_count": 22,
   "metadata": {},
   "outputs": [
    {
     "data": {
      "text/plain": [
       "3.622898767913338"
      ]
     },
     "execution_count": 22,
     "metadata": {},
     "output_type": "execute_result"
    }
   ],
   "source": [
    "NPV_nuclear"
   ]
  },
  {
   "cell_type": "code",
   "execution_count": 34,
   "metadata": {},
   "outputs": [],
   "source": [
    "CO2min=0\n",
    "CO2max=40\n",
    "CO2samples=21\n",
    "CO2taxv=np.linspace(CO2min,CO2max,CO2samples)\n",
    "samples=100000\n",
    "NPV_nuclearv=np.zeros(samples)\n",
    "NPV_windv=np.zeros(samples)\n",
    "NPV_owindv=np.zeros(samples)\n",
    "NPV_solarv=np.zeros(samples)\n",
    "rmin=0.04\n",
    "rmax=0.1\n",
    "Itmin=4000\n",
    "Itmax=9000\n",
    "wholesalemin=20\n",
    "wholesalemax=80\n",
    "Itminw=1500\n",
    "Itmaxw=2000\n",
    "Itminow=3100\n",
    "Itmaxow=4700\n",
    "cfminw=0.2\n",
    "cfmaxw=0.37\n",
    "cfminow=0.37\n",
    "cfmaxow=0.51\n",
    "Itmins=600\n",
    "Itmaxs=1400\n",
    "cfmins=0.09\n",
    "cfmaxs=0.12"
   ]
  },
  {
   "cell_type": "code",
   "execution_count": 35,
   "metadata": {},
   "outputs": [],
   "source": [
    "bins_fixed = np.linspace(-1.25, 2.2, 100)"
   ]
  },
  {
   "cell_type": "code",
   "execution_count": null,
   "metadata": {},
   "outputs": [
    {
     "data": {
      "image/png": "[encoded data removed]",
      "text/plain": [
       "<Figure size 432x288 with 1 Axes>"
      ]
     },
     "metadata": {
      "needs_background": "light"
     },
     "output_type": "display_data"
    }
   ],
   "source": [
    "for co in range(CO2samples):\n",
    "    filename= \"./Figs/All_together_NPV_relative_to_capex_taxes\" + str(co)+ \".png\"\n",
    "    CO2tax=CO2taxv[co]\n",
    "    for x in range(samples):        \n",
    "        It0=np.random.uniform(low=Itmin,high=Itmax)\n",
    "        It0w=np.random.uniform(low=Itminw,high=Itmaxw)\n",
    "        It0ow=np.random.uniform(low=Itminow,high=Itmaxow)\n",
    "        It0s=np.random.uniform(low=Itmins,high=Itmaxs)\n",
    "        wholesale_price=np.random.uniform(low=wholesalemin,high=wholesalemax)+CO2tax\n",
    "        r=np.random.uniform(low=rmin,high=rmax)\n",
    "        cfw=np.random.uniform(low=cfminw,high=cfmaxw)\n",
    "        cfs=np.random.uniform(low=cfmins,high=cfmaxs)\n",
    "        cfow=np.random.uniform(low=cfminow,high=cfmaxow)\n",
    "        OMfixeds=0.025*It0s   #2.5% of capex\n",
    "        NPV_nuclearv[x]=NPV(construction_period,n,r,cf,It0,OMkwh,OMfixed,wholesale_price)/It0   \n",
    "        NPV_windv[x]=NPV(construction_periodw,nw,r,cfw,It0w,OMkwhw,OMfixedw,wholesale_price)/It0w\n",
    "        NPV_solarv[x]=NPV(construction_periods,ns,r,cfs,It0s,OMkwhs,OMfixeds,wholesale_price)/It0s\n",
    "        NPV_owindv[x]=NPV(construction_periodow,now,r,cfow,It0ow,OMkwhow,OMfixedow,wholesale_price)/It0ow\n",
    "    #plt.hist([NPV_nuclearv], bins=75,alpha=0.5,density=True,color = [\"olive\"],label='Nuclear')\n",
    "    #plt.hist([NPV_windv], bins=75,alpha=0.5,density=True,color = [\"skyblue\"],label='Onshore wind')\n",
    "    #plt.hist([NPV_owindv], bins=75,alpha=0.5,density=True,color = [\"dodgerblue\"],label='Off-shore wind')\n",
    "    #plt.hist([NPV_solarv], bins=75,alpha=0.5,density=True,color = [\"lightsalmon\"],label='PV')\n",
    "    plt.hist([NPV_nuclearv], bins_fixed,alpha=0.5,density=True,color = [\"olive\"],label='Nuclear')\n",
    "    plt.hist([NPV_windv], bins_fixed,alpha=0.5,density=True,color = [\"skyblue\"],label='Onshore wind')\n",
    "    plt.hist([NPV_owindv], bins_fixed,alpha=0.5,density=True,color = [\"dodgerblue\"],label='Off-shore wind')\n",
    "    plt.hist([NPV_solarv], bins_fixed,alpha=0.5,density=True,color = [\"lightsalmon\"],label='PV')\n",
    "    plt.legend(loc='upper right')\n",
    "    plt.title(\"NPV/CAPEX: CO2=\"+str(CO2tax)+\" €/MWh\")\n",
    "    plt.xlabel(\"NPV/CAPEX\")\n",
    "    plt.ylabel(\"frequency\")\n",
    "    plt.grid(color='b', linestyle='--', linewidth=0.25)\n",
    "    plt.savefig(filename)\n",
    "    plt.show()"
   ]
  },
  {
   "cell_type": "code",
   "execution_count": null,
   "metadata": {},
   "outputs": [],
   "source": []
  }
 ],
 "metadata": {
  "kernelspec": {
   "display_name": "Python 3",
   "language": "python",
   "name": "python3"
  },
  "language_info": {
   "codemirror_mode": {
    "name": "ipython",
    "version": 3
   },
   "file_extension": ".py",
   "mimetype": "text/x-python",
   "name": "python",
   "nbconvert_exporter": "python",
   "pygments_lexer": "ipython3",
   "version": "3.7.0"
  }
 },
 "nbformat": 4,
 "nbformat_minor": 2
}
